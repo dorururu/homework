{
 "cells": [
  {
   "cell_type": "markdown",
   "metadata": {
    "slideshow": {
     "slide_type": "slide"
    }
   },
   "source": [
    "# CNN (CIFAR10)\n",
    "## 1. Library, Data Preprocessing \n",
    "## 2. Solve classification with Pytorch\n",
    "## 3. Show the result "
   ]
  },
  {
   "cell_type": "markdown",
   "metadata": {
    "slideshow": {
     "slide_type": "slide"
    }
   },
   "source": [
    "# Library"
   ]
  },
  {
   "cell_type": "code",
   "execution_count": 2,
   "metadata": {
    "slideshow": {
     "slide_type": "fragment"
    }
   },
   "outputs": [
    {
     "name": "stdout",
     "output_type": "stream",
     "text": [
      "device: gpu\n"
     ]
    }
   ],
   "source": [
    "import torch\n",
    "import torch.nn as nn\n",
    "import torch.optim as optim\n",
    "import torch.nn.init as init\n",
    "import torchvision.datasets as dataset # for loading dataset (mnist)\n",
    "import torchvision.transforms as transforms # for processing datasets\n",
    "from torch.utils.data import DataLoader # for making dataset easier to use \n",
    "\n",
    "from matplotlib import pyplot as plt\n",
    "import numpy as np\n",
    "\n",
    "device = torch.device(\"cuda:0\" if torch.cuda.is_available() else \"cpu\")\n",
    "print(\"device: gpu\") if torch.cuda.is_available() else print(\"device: cpu\")"
   ]
  },
  {
   "cell_type": "markdown",
   "metadata": {
    "slideshow": {
     "slide_type": "slide"
    }
   },
   "source": [
    "# Hyper parameter setting"
   ]
  },
  {
   "cell_type": "code",
   "execution_count": 40,
   "metadata": {
    "slideshow": {
     "slide_type": "fragment"
    }
   },
   "outputs": [],
   "source": [
    "# hypter parameter setting\n",
    "learning_rate = 1e-3\n",
    "training_epochs = 100\n",
    "display_step = 10\n",
    "batch_size = 512\n",
    "momentum = 0.9\n",
    "\n",
    "\n",
    "activation = nn.ReLU()\n",
    "max_pool = nn.MaxPool2d(2,2) # kerel size, stride size, padding size "
   ]
  },
  {
   "cell_type": "markdown",
   "metadata": {
    "slideshow": {
     "slide_type": "slide"
    }
   },
   "source": [
    "# Load data & Pre-process data"
   ]
  },
  {
   "cell_type": "code",
   "execution_count": 41,
   "metadata": {
    "slideshow": {
     "slide_type": "fragment"
    }
   },
   "outputs": [
    {
     "name": "stdout",
     "output_type": "stream",
     "text": [
      "Files already downloaded and verified\n",
      "Files already downloaded and verified\n",
      "len(train_data):  50000\n",
      "len(test_data):  10000\n",
      "data tensor([[[0.2314, 0.2431, 0.2471],\n",
      "         [0.1686, 0.1804, 0.1765],\n",
      "         [0.1961, 0.1882, 0.1686],\n",
      "         ...,\n",
      "         [0.6196, 0.5176, 0.4235],\n",
      "         [0.5961, 0.4902, 0.4000],\n",
      "         [0.5804, 0.4863, 0.4039]],\n",
      "\n",
      "        [[0.0627, 0.0784, 0.0784],\n",
      "         [0.0000, 0.0000, 0.0000],\n",
      "         [0.0706, 0.0314, 0.0000],\n",
      "         ...,\n",
      "         [0.4824, 0.3451, 0.2157],\n",
      "         [0.4667, 0.3255, 0.1961],\n",
      "         [0.4784, 0.3412, 0.2235]],\n",
      "\n",
      "        [[0.0980, 0.0941, 0.0824],\n",
      "         [0.0627, 0.0275, 0.0000],\n",
      "         [0.1922, 0.1059, 0.0314],\n",
      "         ...,\n",
      "         [0.4627, 0.3294, 0.1961],\n",
      "         [0.4706, 0.3294, 0.1961],\n",
      "         [0.4275, 0.2863, 0.1647]],\n",
      "\n",
      "        ...,\n",
      "\n",
      "        [[0.8157, 0.6667, 0.3765],\n",
      "         [0.7882, 0.6000, 0.1333],\n",
      "         [0.7765, 0.6314, 0.1020],\n",
      "         ...,\n",
      "         [0.6275, 0.5216, 0.2745],\n",
      "         [0.2196, 0.1216, 0.0275],\n",
      "         [0.2078, 0.1333, 0.0784]],\n",
      "\n",
      "        [[0.7059, 0.5451, 0.3765],\n",
      "         [0.6784, 0.4824, 0.1647],\n",
      "         [0.7294, 0.5647, 0.1176],\n",
      "         ...,\n",
      "         [0.7216, 0.5804, 0.3686],\n",
      "         [0.3804, 0.2431, 0.1333],\n",
      "         [0.3255, 0.2078, 0.1333]],\n",
      "\n",
      "        [[0.6941, 0.5647, 0.4549],\n",
      "         [0.6588, 0.5059, 0.3686],\n",
      "         [0.7020, 0.5569, 0.3412],\n",
      "         ...,\n",
      "         [0.8471, 0.7216, 0.5490],\n",
      "         [0.5922, 0.4627, 0.3294],\n",
      "         [0.4824, 0.3608, 0.2824]]])\n",
      "data shape:  torch.Size([32, 32, 3])\n",
      "label:  6\n"
     ]
    },
    {
     "data": {
      "image/png": "[encoded data removed]",
      "text/plain": [
       "<Figure size 432x288 with 1 Axes>"
      ]
     },
     "metadata": {
      "needs_background": "light"
     },
     "output_type": "display_data"
    }
   ],
   "source": [
    "# load data\n",
    "train_data = dataset.CIFAR10(\"./\", train = True, transform = transforms.ToTensor(), target_transform = None, download = True)\n",
    "test_data = dataset.CIFAR10(\"./\", train = False, transform = transforms.ToTensor(), target_transform = None, download = True)\n",
    "\n",
    "# check the data\n",
    "print('len(train_data): ', len(train_data))\n",
    "print('len(test_data): ', len(test_data))\n",
    "\n",
    "x_train, y_train = train_data[0]\n",
    "x_train = np.transpose(x_train, (1, 2, 0))\n",
    "\n",
    "print('data', x_train)\n",
    "print('data shape: ', x_train.shape)\n",
    "print('label: ', y_train)\n",
    "\n",
    "plt.figure()\n",
    "plt.imshow(x_train)\n",
    "plt.show()"
   ]
  },
  {
   "cell_type": "code",
   "execution_count": 42,
   "metadata": {},
   "outputs": [
    {
     "name": "stdout",
     "output_type": "stream",
     "text": [
      "data shape: torch.Size([512, 3, 32, 32])\n",
      "label: tensor([6, 5, 2, 3, 6, 9, 8, 1, 3, 2, 5, 2, 3, 5, 0, 3, 4, 1, 4, 2, 0, 2, 4, 2,\n",
      "        3, 5, 0, 7, 7, 9, 9, 6, 3, 1, 4, 2, 6, 8, 6, 1, 1, 8, 0, 2, 7, 7, 7, 2,\n",
      "        4, 3, 3, 4, 7, 1, 3, 5, 7, 9, 9, 2, 3, 4, 2, 1, 2, 3, 1, 4, 8, 7, 4, 2,\n",
      "        2, 0, 1, 8, 2, 5, 8, 3, 5, 3, 6, 7, 8, 6, 7, 7, 1, 1, 1, 4, 3, 9, 7, 2,\n",
      "        2, 5, 1, 4, 8, 6, 3, 4, 6, 8, 4, 4, 9, 7, 7, 8, 6, 1, 0, 0, 8, 3, 5, 7,\n",
      "        8, 4, 4, 5, 6, 2, 0, 7, 8, 9, 4, 1, 5, 4, 5, 3, 2, 0, 8, 9, 6, 2, 0, 4,\n",
      "        0, 5, 6, 5, 0, 9, 5, 7, 7, 2, 0, 9, 4, 4, 1, 1, 1, 3, 3, 8, 4, 7, 0, 8,\n",
      "        8, 0, 0, 0, 8, 4, 1, 0, 6, 5, 9, 3, 6, 4, 5, 2, 2, 4, 1, 8, 3, 5, 8, 4,\n",
      "        5, 9, 4, 5, 2, 2, 4, 0, 7, 3, 8, 2, 4, 7, 7, 9, 1, 5, 8, 7, 1, 4, 1, 6,\n",
      "        9, 4, 7, 0, 4, 4, 7, 5, 2, 3, 5, 9, 2, 7, 5, 0, 8, 1, 7, 1, 1, 2, 3, 1,\n",
      "        8, 8, 5, 8, 7, 8, 6, 3, 5, 7, 1, 8, 5, 8, 9, 5, 5, 8, 2, 0, 0, 2, 6, 1,\n",
      "        6, 5, 1, 7, 6, 2, 4, 6, 3, 6, 8, 9, 1, 9, 2, 1, 6, 0, 6, 4, 2, 3, 0, 1,\n",
      "        5, 6, 2, 1, 3, 0, 4, 4, 2, 2, 1, 2, 5, 1, 0, 9, 1, 2, 9, 5, 3, 0, 2, 0,\n",
      "        7, 0, 8, 2, 0, 7, 6, 1, 5, 0, 4, 9, 1, 7, 1, 0, 6, 0, 3, 4, 9, 5, 1, 7,\n",
      "        6, 3, 1, 6, 3, 3, 3, 8, 4, 3, 0, 5, 9, 5, 6, 8, 0, 3, 4, 9, 9, 7, 6, 0,\n",
      "        4, 9, 1, 6, 5, 3, 0, 1, 3, 6, 2, 6, 4, 9, 5, 8, 4, 7, 0, 2, 1, 1, 6, 0,\n",
      "        2, 2, 0, 9, 7, 2, 3, 7, 8, 3, 5, 4, 3, 6, 3, 1, 6, 1, 9, 1, 3, 8, 4, 5,\n",
      "        6, 6, 9, 9, 9, 0, 1, 2, 7, 2, 1, 3, 8, 6, 3, 2, 5, 9, 1, 8, 3, 7, 1, 8,\n",
      "        9, 2, 5, 8, 1, 7, 0, 6, 8, 1, 2, 0, 8, 0, 5, 5, 7, 8, 5, 8, 6, 8, 5, 6,\n",
      "        8, 8, 5, 3, 6, 6, 0, 2, 5, 8, 3, 6, 4, 3, 1, 0, 6, 3, 9, 5, 8, 2, 0, 9,\n",
      "        2, 5, 3, 3, 1, 4, 9, 2, 4, 0, 0, 4, 4, 9, 2, 3, 8, 4, 8, 9, 1, 0, 1, 7,\n",
      "        1, 7, 2, 3, 2, 4, 5, 3])\n"
     ]
    },
    {
     "data": {
      "image/png": "[encoded data removed]",
      "text/plain": [
       "<Figure size 432x288 with 1 Axes>"
      ]
     },
     "metadata": {
      "needs_background": "light"
     },
     "output_type": "display_data"
    }
   ],
   "source": [
    "# Pre-process (batch, shuffle)\n",
    "train_loader = torch.utils.data.DataLoader(train_data, batch_size = batch_size, shuffle = True, num_workers = 1, drop_last = True)\n",
    "test_loader = torch.utils.data.DataLoader(test_data, batch_size = batch_size, shuffle = True, num_workers = 1, drop_last = True)\n",
    "\n",
    "# check the data \n",
    "examples = enumerate(train_loader)\n",
    "batch_idx, (example_data, example_target) = next(examples)\n",
    "\n",
    "print('data shape:', example_data.shape)\n",
    "print('label:', example_target)\n",
    "\n",
    "check_image = example_data[0]\n",
    "check_image = np.transpose(check_image, (1, 2, 0))\n",
    "\n",
    "plt.figure()\n",
    "plt.imshow(check_image)\n",
    "plt.show()"
   ]
  },
  {
   "cell_type": "markdown",
   "metadata": {
    "slideshow": {
     "slide_type": "slide"
    }
   },
   "source": [
    "# Model & Optimization and Loss function"
   ]
  },
  {
   "cell_type": "code",
   "execution_count": 43,
   "metadata": {
    "slideshow": {
     "slide_type": "fragment"
    }
   },
   "outputs": [],
   "source": [
    "class CNN(nn.Module):\n",
    "    def __init__(self):\n",
    "        super(CNN, self).__init__() # for initializing nn.Module (parent class)\n",
    "        self.feature_extraction = nn.Sequential(\n",
    "            nn.Conv2d(3, 32, 3,padding = 1), # number of input channel, number of output channel, kernel size   \n",
    "            nn.BatchNorm2d(32),\n",
    "            activation,          # we can set stride size and padding size. if we do not set the these parameters, default value is 1, 0.\n",
    "            \n",
    "            # 2^5 * 2^4\n",
    "            nn.Conv2d(32, 32, 3,padding = 1),\n",
    "            nn.BatchNorm2d(32),\n",
    "            activation,\n",
    "            max_pool,\n",
    "            nn.Dropout(p=0.3),\n",
    "            # 2^4 * 2^5\n",
    "            nn.Conv2d(32, 128, 3,padding = 1),\n",
    "            nn.BatchNorm2d(128),\n",
    "            activation,\n",
    "                        \n",
    "            nn.Conv2d(128,128,3,padding = 1),\n",
    "            nn.BatchNorm2d(128),\n",
    "            activation,\n",
    "            max_pool,\n",
    "            nn.Dropout(p=0.3),\n",
    "            #2^3 * 2^6\n",
    "            nn.Conv2d(128, 512, 3,padding = 1),\n",
    "            nn.BatchNorm2d(512),\n",
    "            activation,\n",
    "            \n",
    "            \n",
    "            nn.Conv2d(512,512 ,3,padding = 1),\n",
    "            nn.BatchNorm2d(512),\n",
    "            activation,\n",
    "            max_pool,            \n",
    "            nn.Dropout(p=0.3),\n",
    "            #2^2\n",
    "            \n",
    "            nn.Conv2d(512, 2048, 3,padding = 1),\n",
    "            nn.BatchNorm2d(2048),\n",
    "            activation,\n",
    "            max_pool, \n",
    "            \n",
    "            nn.Conv2d(2048,4096 ,3,padding = 1),\n",
    "            nn.BatchNorm2d(4096),\n",
    "            activation,            \n",
    "            nn.Dropout(p=0.3),\n",
    "            \n",
    "        )\n",
    "        self.classifier = nn.Sequential(\n",
    "            nn.Linear(4096 * 2 * 2, 200),\n",
    "            activation,\n",
    "            nn.Linear(200, 100),\n",
    "            activation,\n",
    "            nn.Linear(100, 50),\n",
    "            activation,\n",
    "            nn.Linear(50, 10)\n",
    "        )\n",
    "    def forward(self, x):\n",
    "        extracted_feature = self.feature_extraction(x) # [32, 64, 4, 4]\n",
    "        flatten = extracted_feature.view(batch_size, -1) # [32, 64 * 4 * 4]\n",
    "        result = self.classifier(flatten)\n",
    "        return result\n",
    "\n",
    "model = CNN().to(device)\n",
    "model.train()\n",
    "loss_function = nn.CrossEntropyLoss()\n",
    "optimizer = optim.Adam(model.parameters(), lr = learning_rate)"
   ]
  },
  {
   "cell_type": "markdown",
   "metadata": {
    "slideshow": {
     "slide_type": "slide"
    }
   },
   "source": [
    "# Train & Test"
   ]
  },
  {
   "cell_type": "code",
   "execution_count": 44,
   "metadata": {
    "scrolled": true,
    "slideshow": {
     "slide_type": "fragment"
    }
   },
   "outputs": [
    {
     "name": "stdout",
     "output_type": "stream",
     "text": [
      "0 epoch loss: 1.521798014640808\n",
      "10 epoch loss: 0.39945006370544434\n",
      "20 epoch loss: 0.163338303565979\n",
      "30 epoch loss: 0.03652554750442505\n",
      "40 epoch loss: 0.047581009566783905\n",
      "50 epoch loss: 0.024478113278746605\n",
      "60 epoch loss: 0.016463514417409897\n",
      "70 epoch loss: 0.02171526849269867\n",
      "80 epoch loss: 0.00938389077782631\n",
      "90 epoch loss: 0.032399218529462814\n"
     ]
    }
   ],
   "source": [
    "loss_array = []\n",
    "\n",
    "# train the model\n",
    "for i in range(training_epochs):\n",
    "    for index, [data, label] in enumerate(train_loader):\n",
    "        data = data.to(device)\n",
    "        label = label.to(device)\n",
    "                \n",
    "        optimizer.zero_grad()\n",
    "        output = model.forward(data)\n",
    "        loss = loss_function(output, label)\n",
    "        loss.backward()\n",
    "        optimizer.step()\n",
    "        \n",
    "    if i % display_step == 0:\n",
    "        print('{} epoch loss: {}'.format(i,loss))\n",
    "        loss_array.append(loss.cpu().detach().numpy())"
   ]
  },
  {
   "cell_type": "code",
   "execution_count": 45,
   "metadata": {},
   "outputs": [
    {
     "data": {
      "image/png": "[encoded data removed]",
      "text/plain": [
       "<Figure size 432x288 with 1 Axes>"
      ]
     },
     "metadata": {
      "needs_background": "light"
     },
     "output_type": "display_data"
    }
   ],
   "source": [
    "plt.figure()\n",
    "plt.plot(loss_array)\n",
    "plt.show()"
   ]
  },
  {
   "cell_type": "code",
   "execution_count": 46,
   "metadata": {},
   "outputs": [
    {
     "name": "stdout",
     "output_type": "stream",
     "text": [
      "Accuracy of the model: 0.8685238361358643\n"
     ]
    }
   ],
   "source": [
    "#test the model\n",
    "model.eval()\n",
    "correct = 0\n",
    "total = 0\n",
    "\n",
    "prediction_list = []\n",
    "label_list = []\n",
    "\n",
    "with torch.no_grad():\n",
    "    for index, [data, label] in enumerate(test_loader):\n",
    "        data = data.to(device)\n",
    "        label = label.to(device)\n",
    "        \n",
    "        output = model.forward(data)\n",
    "        _, prediction_index = torch.max(output, 1)\n",
    "        \n",
    "        prediction_list.append(prediction_index)\n",
    "        label_list.append(label)\n",
    "        \n",
    "        total += label.size(0)\n",
    "        correct += (prediction_index == label).sum().float()\n",
    "\n",
    "    print(\"Accuracy of the model: {}\".format(correct/total))"
   ]
  },
  {
   "cell_type": "code",
   "execution_count": null,
   "metadata": {},
   "outputs": [],
   "source": []
  }
 ],
 "metadata": {
  "celltoolbar": "Slideshow",
  "kernelspec": {
   "display_name": "Pytorch",
   "language": "python",
   "name": "pytorch"
  },
  "language_info": {
   "codemirror_mode": {
    "name": "ipython",
    "version": 3
   },
   "file_extension": ".py",
   "mimetype": "text/x-python",
   "name": "python",
   "nbconvert_exporter": "python",
   "pygments_lexer": "ipython3",
   "version": "3.7.7"
  },
  "widgets": {
   "state": {},
   "version": "1.1.2"
  }
 },
 "nbformat": 4,
 "nbformat_minor": 2
}
